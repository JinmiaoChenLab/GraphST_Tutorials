{
 "cells": [
  {
   "cell_type": "markdown",
   "id": "3b6e39a7",
   "metadata": {},
   "source": [
    "# Tutorial 3: Stereo-seq"
   ]
  },
  {
   "cell_type": "markdown",
   "id": "9014c08b",
   "metadata": {},
   "source": [
    "In this tutorial, we demonstrate how to apply GraphST to Stereo-seq data for spatial domains identification. We take mouse embryo 9.5 data as example and set the number of clusters as 22. Mouse embryo Stereo-seq data were downloaded from https://db.cngb.org/stomics/mosta/ and provided at https://drive.google.com/drive/folders/1QWHFMzhQ7WorVNLwx88xT-rbojf4nh9T.\n",
    "\n",
    "Before running the model, please download input data by the link above. "
   ]
  },
  {
   "cell_type": "code",
   "execution_count": 1,
   "id": "8725372c",
   "metadata": {},
   "outputs": [
    {
     "name": "stderr",
     "output_type": "stream",
     "text": [
      "/home/yahui/anaconda3/envs/STGAT/lib/python3.8/site-packages/tqdm/auto.py:22: TqdmWarning: IProgress not found. Please update jupyter and ipywidgets. See https://ipywidgets.readthedocs.io/en/stable/user_install.html\n",
      "  from .autonotebook import tqdm as notebook_tqdm\n"
     ]
    }
   ],
   "source": [
    "import os\n",
    "import torch\n",
    "import pandas as pd\n",
    "import scanpy as sc\n",
    "from sklearn import metrics\n",
    "import multiprocessing as mp"
   ]
  },
  {
   "cell_type": "code",
   "execution_count": 2,
   "id": "5a8597e5",
   "metadata": {},
   "outputs": [],
   "source": [
    "from GraphST import GraphST"
   ]
  },
  {
   "cell_type": "code",
   "execution_count": 3,
   "id": "a08fe59c",
   "metadata": {},
   "outputs": [],
   "source": [
    "dataset = 'Mouse_Embryo'"
   ]
  },
  {
   "cell_type": "code",
   "execution_count": 4,
   "id": "06a631be",
   "metadata": {},
   "outputs": [],
   "source": [
    "# Run device，by default, the package is implemented on 'cpu'. We recommend using GPU.\n",
    "device = torch.device('cuda:3' if torch.cuda.is_available() else 'cpu')\n",
    "\n",
    "# the location of R, which is necessary for mclust algorithm. Please replace it with local R installation path\n",
    "os.environ['R_HOME'] = '/scbio4/tools/R/R-4.0.3_openblas/R-4.0.3'"
   ]
  },
  {
   "cell_type": "code",
   "execution_count": 5,
   "id": "2a1b371a",
   "metadata": {},
   "outputs": [],
   "source": [
    "# the number of clusters\n",
    "n_clusters = 22"
   ]
  },
  {
   "cell_type": "markdown",
   "id": "b3b49aa7",
   "metadata": {},
   "source": [
    "## Reading data"
   ]
  },
  {
   "cell_type": "code",
   "execution_count": 6,
   "id": "d50cd367",
   "metadata": {},
   "outputs": [],
   "source": [
    "# read data\n",
    "file_path = '/home/yahui/anaconda3/work/CellCluster_DEC/data//Mouse_Embryo/' #please replace 'file_path' with the download path\n",
    "adata = sc.read_h5ad(file_path + 'E9.5_E1S1.MOSTA.h5ad')\n",
    "adata.var_names_make_unique()"
   ]
  },
  {
   "cell_type": "markdown",
   "id": "4135db34",
   "metadata": {},
   "source": [
    "## Implementing GraphST for spatial clustering"
   ]
  },
  {
   "cell_type": "code",
   "execution_count": 7,
   "id": "0e4df326",
   "metadata": {},
   "outputs": [
    {
     "name": "stderr",
     "output_type": "stream",
     "text": [
      "/home/yahui/anaconda3/envs/STGAT/lib/python3.8/site-packages/scanpy/preprocessing/_highly_variable_genes.py:62: UserWarning: `flavor='seurat_v3'` expects raw count data, but non-integers were found.\n",
      "  warnings.warn(\n"
     ]
    },
    {
     "name": "stdout",
     "output_type": "stream",
     "text": [
      "Graph constructed!\n",
      "Building sparse matrix ...\n",
      "Begin to train ST data...\n"
     ]
    },
    {
     "name": "stderr",
     "output_type": "stream",
     "text": [
      "100%|███████████████████████████████████████████████████████████████████████████████| 600/600 [00:14<00:00, 42.39it/s]"
     ]
    },
    {
     "name": "stdout",
     "output_type": "stream",
     "text": [
      "Optimization finished for ST data!\n"
     ]
    },
    {
     "name": "stderr",
     "output_type": "stream",
     "text": [
      "\n"
     ]
    }
   ],
   "source": [
    "# define model\n",
    "model = GraphST.GraphST(adata, datatype='Stereo', device=device)\n",
    "\n",
    "# run model\n",
    "adata = model.train()"
   ]
  },
  {
   "cell_type": "markdown",
   "id": "856c47ad",
   "metadata": {},
   "source": [
    "## Spatial clustering"
   ]
  },
  {
   "cell_type": "markdown",
   "id": "e8d7f6ff",
   "metadata": {},
   "source": [
    "After model training, the representation for spots are generated and used as input of clustering tool for spatial clustering. Here we provid three available kinds of tools for spaital clustering, including mclust, leiden, and louvain. In our experiment, we find mclust performs better than leiden and louvain on spatial data in most cases. Therefore, we recommend using mclust."
   ]
  },
  {
   "cell_type": "code",
   "execution_count": 8,
   "id": "053e0984",
   "metadata": {},
   "outputs": [
    {
     "name": "stderr",
     "output_type": "stream",
     "text": [
      "R[write to console]:     __  ___________    __  _____________\n",
      "   /  |/  / ____/ /   / / / / ___/_  __/\n",
      "  / /|_/ / /   / /   / / / /\\__ \\ / /   \n",
      " / /  / / /___/ /___/ /_/ /___/ // /    \n",
      "/_/  /_/\\____/_____/\\____//____//_/    version 5.4.9\n",
      "Type 'citation(\"mclust\")' for citing this R package in publications.\n",
      "\n"
     ]
    },
    {
     "name": "stdout",
     "output_type": "stream",
     "text": [
      "fitting ...\n",
      "  |======================================================================| 100%\n"
     ]
    }
   ],
   "source": [
    "# clustering\n",
    "from GraphST.utils import clustering\n",
    "\n",
    "tool = 'mclust' # mclust, leiden, and louvain\n",
    "\n",
    "# clustering\n",
    "from GraphST.utils import clustering\n",
    "\n",
    "if tool == 'mclust':\n",
    "   clustering(adata, n_clusters, method=tool) \n",
    "elif tool in ['leiden', 'louvain']:\n",
    "   clustering(adata, n_clusters, method=tool, start=0.1, end=2.0, increment=0.01)"
   ]
  },
  {
   "cell_type": "markdown",
   "id": "7d310a01",
   "metadata": {},
   "source": [
    "## Visualization"
   ]
  },
  {
   "cell_type": "code",
   "execution_count": 10,
   "id": "4aaf32f6",
   "metadata": {},
   "outputs": [],
   "source": [
    "#import matplotlib.pyplot as plt\n",
    "#adata.obsm['spatial'][:, 1] = -1*adata.obsm['spatial'][:, 1]\n",
    "#plt.rcParams[\"figure.figsize\"] = (3, 4)\n",
    "#plot_color=[\"#F56867\",\"#556B2F\",\"#C798EE\",\"#59BE86\",\"#006400\",\"#8470FF\",\n",
    "#            \"#CD69C9\",\"#EE7621\",\"#B22222\",\"#FFD700\",\"#CD5555\",\"#DB4C6C\",\n",
    "#            \"#8B658B\",\"#1E90FF\",\"#AF5F3C\",\"#CAFF70\", \"#F9BD3F\",\"#DAB370\",\n",
    "#           \"#877F6C\",\"#268785\", '#82EF2D', '#B4EEB4']\n",
    "\n",
    "#ax = sc.pl.embedding(adata, basis=\"spatial\", \n",
    "#                     color=\"domain\", \n",
    "#                     s=30, \n",
    "#                     show=False, \n",
    "#                     palette=plot_color,\n",
    "#                     title='GraphST')\n",
    "#ax.axis('off')\n",
    "#ax.set_title('Mouse Embryo E9.5')"
   ]
  }
 ],
 "metadata": {
  "kernelspec": {
   "display_name": "STGAT",
   "language": "python",
   "name": "stgat"
  },
  "language_info": {
   "codemirror_mode": {
    "name": "ipython",
    "version": 3
   },
   "file_extension": ".py",
   "mimetype": "text/x-python",
   "name": "python",
   "nbconvert_exporter": "python",
   "pygments_lexer": "ipython3",
   "version": "3.8.0"
  }
 },
 "nbformat": 4,
 "nbformat_minor": 5
}
